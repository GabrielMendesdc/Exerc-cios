{
 "cells": [
  {
   "cell_type": "code",
   "execution_count": 25,
   "id": "f265d6e3",
   "metadata": {},
   "outputs": [
    {
     "name": "stdout",
     "output_type": "stream",
     "text": [
      "SENHA\n",
      "Senha de A\n"
     ]
    }
   ],
   "source": [
    "'''Metaclasses:\n",
    "type é uma metaclasse\n",
    "'''\n",
    "\n",
    "class Meta(type): #Ameta classe que cria outras classes\n",
    "    def __new__(mcs, name, bases, namespace):\n",
    "        if 'atributo_supremo' in namespace and name != 'A': #Aqui ela verifica se o atributo_supremo de \n",
    "            del namespace['atributo_supremo'] # A foi sobreescrito e se sim deleta ele do namespace\n",
    "        return type.__new__(mcs, name, bases, namespace) #retorna a classe criada\n",
    "    \n",
    "class A(metaclass=Meta):\n",
    "    atributo_supremo = 'SENHA'\n",
    "        \n",
    "class B(A):\n",
    "    atributo_supremo = 'entrei no meio e mudei tudo'\n",
    "\n",
    "b = B()\n",
    "print(b.atributo_supremo)\n",
    "\n",
    "A = type('A',(),{'atributo_supremo':'Senha de A'}) #Aqui usamos type pra sobreescrever a classe inteira\n",
    "b = A()                     #E assim mudar o atributo supremo\n",
    "print(b.atributo_supremo)"
   ]
  },
  {
   "cell_type": "code",
   "execution_count": null,
   "id": "af6511b0",
   "metadata": {},
   "outputs": [],
   "source": []
  }
 ],
 "metadata": {
  "kernelspec": {
   "display_name": "cientista",
   "language": "python",
   "name": "cientista"
  },
  "language_info": {
   "codemirror_mode": {
    "name": "ipython",
    "version": 3
   },
   "file_extension": ".py",
   "mimetype": "text/x-python",
   "name": "python",
   "nbconvert_exporter": "python",
   "pygments_lexer": "ipython3",
   "version": "3.10.0"
  }
 },
 "nbformat": 4,
 "nbformat_minor": 5
}
