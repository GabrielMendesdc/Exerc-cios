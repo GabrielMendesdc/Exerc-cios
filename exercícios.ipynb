{
 "cells": [
  {
   "cell_type": "code",
   "execution_count": 6,
   "id": "64b9d27b",
   "metadata": {},
   "outputs": [
    {
     "name": "stdout",
     "output_type": "stream",
     "text": [
      "MMCMIV \n",
      "\n",
      "2904\n"
     ]
    }
   ],
   "source": [
    "class roman():            \n",
    "    def int2romano(self,numero):\n",
    "        i = 0\n",
    "        val = [1000, 900, 500, 400, 100, 50, 40, 10, 9, 5, 4, 1]\n",
    "        sim = ['M', 'CM', 'D', 'CD', 'C', 'L', 'XL', 'X', 'IX', 'V', 'IV', 'I']\n",
    "        romano = ''\n",
    "        while numero > 0:\n",
    "            for _ in range(numero // val[i]):\n",
    "                romano += sim[i]\n",
    "                numero -= val[i]\n",
    "            i += 1\n",
    "        return romano\n",
    "        \n",
    "        \n",
    "    def romano2int(self, romano):\n",
    "        i = 0\n",
    "        val = [1000, 900, 500, 400, 100, 50, 40, 10, 9, 5, 4, 1]\n",
    "        sim = ['M', 'CM', 'D', 'CD', 'C', 'L', 'XL', 'X', 'IX', 'V', 'IV', 'I']\n",
    "        self.numero = 0\n",
    "        self.romano = romano\n",
    "        while len(self.romano) > 0:\n",
    "            for _ in range(len(self.romano)):\n",
    "                if not sim[i] in self.romano:\n",
    "                    continue\n",
    "                if self.romano[0:2] in sim:\n",
    "                    self.numero += val[sim.index(self.romano[0:2])]\n",
    "                    self.romano = self.romano[2:]\n",
    "                else:\n",
    "                    self.romano = self.romano[1:]\n",
    "                    self.numero += val[i]\n",
    "            i += 1\n",
    "        return self.numero\n",
    "        \n",
    "\n",
    "x = roman().int2romano(2904)\n",
    "print(x,'\\n')\n",
    "print(roman().romano2int(x))"
   ]
  },
  {
   "cell_type": "code",
   "execution_count": null,
   "id": "21d4a798",
   "metadata": {},
   "outputs": [],
   "source": []
  }
 ],
 "metadata": {
  "kernelspec": {
   "display_name": "Python (bot)",
   "language": "python",
   "name": "bot"
  },
  "language_info": {
   "codemirror_mode": {
    "name": "ipython",
    "version": 3
   },
   "file_extension": ".py",
   "mimetype": "text/x-python",
   "name": "python",
   "nbconvert_exporter": "python",
   "pygments_lexer": "ipython3",
   "version": "3.9.7"
  }
 },
 "nbformat": 4,
 "nbformat_minor": 5
}
