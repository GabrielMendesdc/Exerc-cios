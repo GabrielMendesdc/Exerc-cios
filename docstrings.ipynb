{
 "cells": [
  {
   "cell_type": "code",
   "execution_count": 15,
   "id": "eab1878f",
   "metadata": {},
   "outputs": [
    {
     "name": "stdout",
     "output_type": "stream",
     "text": [
      "Help on function soma in module __main__:\n",
      "\n",
      "soma(x: Union[int, float, NoneType], y: Union[int, float, NoneType], z: Union[int, float, NoneType]) -> Union[int, float, NoneType]\n",
      "    Função que Multiplica 3 variáveis\n",
      "    \n",
      "    Essa função retorna a soma de 3 números\n",
      "    \n",
      "    :param x: Primeiro Número\n",
      "    :type x: int ou float\n",
      "    :param y: Segundo Número\n",
      "    :type y: int ou float\n",
      "    :param z: Terceiro Número\n",
      "    :type z: int ou float\n",
      "    \n",
      "    :return: Soma dos 3 valores\n",
      "    :rtype: int ou float\n",
      "    \n",
      "    :raises TypeError: se a soma não for bem sucedida\n",
      "\n",
      "Resultado é igual a 60\n",
      "Resultado é igual a 160.000000005\n",
      "\n",
      "\n",
      "\n",
      "\n",
      "\n",
      "\n",
      "\n",
      "\n",
      "\n"
     ]
    },
    {
     "ename": "TypeError",
     "evalue": "Certeza que isso é um número?",
     "output_type": "error",
     "traceback": [
      "\u001b[1;31m---------------------------------------------------------------------------\u001b[0m",
      "\u001b[1;31mTypeError\u001b[0m                                 Traceback (most recent call last)",
      "\u001b[1;32m~\\AppData\\Local\\Temp/ipykernel_22068/1784011325.py\u001b[0m in \u001b[0;36msoma\u001b[1;34m(x, y, z)\u001b[0m\n\u001b[0;32m     23\u001b[0m     \u001b[1;32mtry\u001b[0m\u001b[1;33m:\u001b[0m\u001b[1;33m\u001b[0m\u001b[1;33m\u001b[0m\u001b[0m\n\u001b[1;32m---> 24\u001b[1;33m         \u001b[1;32mreturn\u001b[0m \u001b[0mx\u001b[0m \u001b[1;33m+\u001b[0m \u001b[0my\u001b[0m \u001b[1;33m+\u001b[0m \u001b[0mz\u001b[0m\u001b[1;33m\u001b[0m\u001b[1;33m\u001b[0m\u001b[0m\n\u001b[0m\u001b[0;32m     25\u001b[0m     \u001b[1;32mexcept\u001b[0m\u001b[1;33m:\u001b[0m\u001b[1;33m\u001b[0m\u001b[1;33m\u001b[0m\u001b[0m\n",
      "\u001b[1;31mTypeError\u001b[0m: unsupported operand type(s) for +: 'int' and 'str'",
      "\nDuring handling of the above exception, another exception occurred:\n",
      "\u001b[1;31mTypeError\u001b[0m                                 Traceback (most recent call last)",
      "\u001b[1;32m~\\AppData\\Local\\Temp/ipykernel_22068/1784011325.py\u001b[0m in \u001b[0;36m<module>\u001b[1;34m\u001b[0m\n\u001b[0;32m     35\u001b[0m \u001b[0mprint\u001b[0m\u001b[1;33m(\u001b[0m\u001b[1;34mf'Resultado é igual a {soma(x,y,z)}'\u001b[0m\u001b[1;33m)\u001b[0m\u001b[1;33m\u001b[0m\u001b[1;33m\u001b[0m\u001b[0m\n\u001b[0;32m     36\u001b[0m \u001b[0mprint\u001b[0m\u001b[1;33m(\u001b[0m\u001b[1;34m'\\n'\u001b[0m\u001b[1;33m*\u001b[0m\u001b[1;36m8\u001b[0m\u001b[1;33m)\u001b[0m\u001b[1;33m\u001b[0m\u001b[1;33m\u001b[0m\u001b[0m\n\u001b[1;32m---> 37\u001b[1;33m \u001b[0mprint\u001b[0m\u001b[1;33m(\u001b[0m\u001b[0msoma\u001b[0m\u001b[1;33m(\u001b[0m\u001b[1;36m1\u001b[0m\u001b[1;33m,\u001b[0m\u001b[1;36m2\u001b[0m\u001b[1;33m,\u001b[0m\u001b[1;34m'3'\u001b[0m\u001b[1;33m)\u001b[0m\u001b[1;33m)\u001b[0m\u001b[1;33m\u001b[0m\u001b[1;33m\u001b[0m\u001b[0m\n\u001b[0m",
      "\u001b[1;32m~\\AppData\\Local\\Temp/ipykernel_22068/1784011325.py\u001b[0m in \u001b[0;36msoma\u001b[1;34m(x, y, z)\u001b[0m\n\u001b[0;32m     24\u001b[0m         \u001b[1;32mreturn\u001b[0m \u001b[0mx\u001b[0m \u001b[1;33m+\u001b[0m \u001b[0my\u001b[0m \u001b[1;33m+\u001b[0m \u001b[0mz\u001b[0m\u001b[1;33m\u001b[0m\u001b[1;33m\u001b[0m\u001b[0m\n\u001b[0;32m     25\u001b[0m     \u001b[1;32mexcept\u001b[0m\u001b[1;33m:\u001b[0m\u001b[1;33m\u001b[0m\u001b[1;33m\u001b[0m\u001b[0m\n\u001b[1;32m---> 26\u001b[1;33m         \u001b[1;32mraise\u001b[0m \u001b[0mTypeError\u001b[0m\u001b[1;33m(\u001b[0m\u001b[1;34m'Certeza que isso é um número?'\u001b[0m\u001b[1;33m)\u001b[0m\u001b[1;33m\u001b[0m\u001b[1;33m\u001b[0m\u001b[0m\n\u001b[0m\u001b[0;32m     27\u001b[0m \u001b[1;33m\u001b[0m\u001b[0m\n\u001b[0;32m     28\u001b[0m \u001b[0mhelp\u001b[0m\u001b[1;33m(\u001b[0m\u001b[0msoma\u001b[0m\u001b[1;33m)\u001b[0m\u001b[1;33m\u001b[0m\u001b[1;33m\u001b[0m\u001b[0m\n",
      "\u001b[1;31mTypeError\u001b[0m: Certeza que isso é um número?"
     ]
    }
   ],
   "source": [
    "from typing import Union\n",
    "def soma(x: Union[int, float, None],\n",
    "         y: Union[int, float, None],\n",
    "         z: Union[int, float, None]) -> Union[int, float, None]:\n",
    "    #Ja defini o tipo que quero nos parametros e o tipo do retorno\n",
    "    #A Docstring tem q ter a mesma identação que código normal\n",
    "    \"\"\"Função que Multiplica 3 variáveis\n",
    "\n",
    "    Essa função retorna a soma de 3 números\n",
    "\n",
    "    :param x: Primeiro Número\n",
    "    :type x: int ou float\n",
    "    :param y: Segundo Número\n",
    "    :type y: int ou float\n",
    "    :param z: Terceiro Número\n",
    "    :type z: int ou float\n",
    "\n",
    "    :return: Soma dos 3 valores\n",
    "    :rtype: int ou float\n",
    "    \n",
    "    :raises TypeError: se a soma não for bem sucedida\n",
    "    \"\"\"\n",
    "    try:\n",
    "        return x + y + z\n",
    "    except:\n",
    "        raise TypeError('Certeza que isso é um número?')\n",
    "\n",
    "help(soma)\n",
    "print(f'Resultado é igual a {soma(10,20,30)}')\n",
    "\n",
    "x: int = 10\n",
    "y: int = 150\n",
    "z: float = 0.000000005\n",
    "\n",
    "print(f'Resultado é igual a {soma(x,y,z)}')\n",
    "\n",
    "print('\\n'*8)\n",
    "\n",
    "print(soma(1,2,'3'))\n"
   ]
  },
  {
   "cell_type": "code",
   "execution_count": null,
   "id": "ae91dec9",
   "metadata": {},
   "outputs": [],
   "source": []
  }
 ],
 "metadata": {
  "kernelspec": {
   "display_name": "Python 3 (ipykernel)",
   "language": "python",
   "name": "python3"
  },
  "language_info": {
   "codemirror_mode": {
    "name": "ipython",
    "version": 3
   },
   "file_extension": ".py",
   "mimetype": "text/x-python",
   "name": "python",
   "nbconvert_exporter": "python",
   "pygments_lexer": "ipython3",
   "version": "3.8.12"
  }
 },
 "nbformat": 4,
 "nbformat_minor": 5
}
